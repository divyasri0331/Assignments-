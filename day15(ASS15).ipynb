{
 "cells": [
  {
   "cell_type": "code",
   "execution_count": null,
   "id": "153ad497-7ce8-4f75-8931-e7fbba704d48",
   "metadata": {},
   "outputs": [],
   "source": [
    "import pandas as pd\n",
    "import numpy as np\n",
    "import seaborn as sns\n",
    "import matplotlib.pyplot as plt\n",
    "from sklearn.impute import KNNImputer\n",
    "from sklearn.linear_model import LinearRegression\n",
    "\n",
    "df = pd.read_csv('')\n",
    "\n",
    "print(\"Dataset Info:\")\n",
    "print(df.info())\n",
    "\n",
    "print(\"\\nSummary of Numerical Data:\")\n",
    "print(df.describe())\n",
    "\n",
    "missing_data = df.isna().sum()\n",
    "missing_percentage = (missing_data / len(df)) * 100\n",
    "print(\"\\nMissing Data Percentage:\")\n",
    "print(missing_percentage)\n",
    "\n",
    "plt.figure(figsize=(12, 8))\n",
    "sns.heatmap(df.isnull(), cbar=False, cmap='viridis')\n",
    "plt.title('Missing Data Heatmap')\n",
    "plt.show()\n",
    "\n",
    "df['numerical_column'] = df['numerical_column'].fillna(df['numerical_column'].mean())\n",
    "\n",
    "df['categorical_column'] = df['categorical_column'].fillna(df['categorical_column'].mode()[0])\n",
    "\n",
    "numerical_cols = df.select_dtypes(include=['float64', 'int64']).columns\n",
    "knn_imputer = KNNImputer(n_neighbors=5)\n",
    "df[numerical_cols] = knn_imputer.fit_transform(df[numerical_cols])\n",
    "\n",
    "print(\"\\nBefore Imputation Summary:\")\n",
    "print(df.describe())\n",
    "\n",
    "print(\"\\nAfter Imputation Summary:\")\n",
    "print(df.describe())\n",
    "\n",
    "plt.figure(figsize=(12, 6))\n",
    "sns.boxplot(x='numerical_column', data=df)\n",
    "plt.title('Boxplot After Imputation')\n",
    "plt.show()\n",
    "\n",
    "plt.figure(figsize=(12, 6))\n",
    "sns.histplot(df['numerical_column'], kde=True)\n",
    "plt.title('Histogram After Imputation')\n",
    "plt.show()\n"
   ]
  }
 ],
 "metadata": {
  "kernelspec": {
   "display_name": "Python [conda env:base] *",
   "language": "python",
   "name": "conda-base-py"
  },
  "language_info": {
   "codemirror_mode": {
    "name": "ipython",
    "version": 3
   },
   "file_extension": ".py",
   "mimetype": "text/x-python",
   "name": "python",
   "nbconvert_exporter": "python",
   "pygments_lexer": "ipython3",
   "version": "3.12.7"
  }
 },
 "nbformat": 4,
 "nbformat_minor": 5
}
