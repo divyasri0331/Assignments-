{
 "cells": [
  {
   "cell_type": "code",
   "execution_count": 1,
   "id": "36210e70-3a95-4bf1-85b1-2836b2b2338b",
   "metadata": {},
   "outputs": [
    {
     "name": "stdout",
     "output_type": "stream",
     "text": [
      "\n",
      "Missing Data Percentage:\n",
      "Patient_ID        0.000000\n",
      "Age               0.000000\n",
      "Gender            4.158416\n",
      "Blood_Pressure    5.940594\n",
      "Cholesterol       3.960396\n",
      "Diabetes          0.000000\n",
      "Heart_Disease     0.000000\n",
      "dtype: float64\n"
     ]
    },
    {
     "data": {
      "image/png": "[encoded data removed]",
      "text/plain": [
       "<Figure size 640x480 with 1 Axes>"
      ]
     },
     "metadata": {},
     "output_type": "display_data"
    },
    {
     "name": "stdout",
     "output_type": "stream",
     "text": [
      "\n",
      "Data After Cleaning:\n",
      "<class 'pandas.core.frame.DataFrame'>\n",
      "Index: 500 entries, 0 to 499\n",
      "Data columns (total 7 columns):\n",
      " #   Column             Non-Null Count  Dtype  \n",
      "---  ------             --------------  -----  \n",
      " 0   Patient_ID         500 non-null    float64\n",
      " 1   Age                500 non-null    float64\n",
      " 2   Blood_Pressure     500 non-null    float64\n",
      " 3   Cholesterol        500 non-null    float64\n",
      " 4   Gender_Male        500 non-null    bool   \n",
      " 5   Diabetes_Yes       500 non-null    bool   \n",
      " 6   Heart_Disease_Yes  500 non-null    bool   \n",
      "dtypes: bool(3), float64(4)\n",
      "memory usage: 21.0 KB\n",
      "None\n"
     ]
    }
   ],
   "source": [
    "import pandas as pd\n",
    "import numpy as np\n",
    "import seaborn as sns\n",
    "import matplotlib.pyplot as plt\n",
    "from sklearn.preprocessing import MinMaxScaler, StandardScaler\n",
    "from sklearn.impute import SimpleImputer\n",
    "\n",
    "df = pd.read_csv('/Users/kruthikasaisree/Downloads/Day_16_Healthcare_Data.csv')\n",
    "\n",
    "missing_data = df.isnull().sum()\n",
    "missing_percentage = (missing_data / len(df)) * 100\n",
    "print(\"\\nMissing Data Percentage:\")\n",
    "print(missing_percentage)\n",
    "\n",
    "numerical_cols = df.select_dtypes(include=['float64', 'int64']).columns\n",
    "categorical_cols = df.select_dtypes(include=['object']).columns\n",
    "\n",
    "imputer_num = SimpleImputer(strategy='median')\n",
    "df[numerical_cols] = imputer_num.fit_transform(df[numerical_cols])\n",
    "\n",
    "imputer_cat = SimpleImputer(strategy='most_frequent')\n",
    "df[categorical_cols] = imputer_cat.fit_transform(df[categorical_cols])\n",
    "\n",
    "duplicates = df[df.duplicated()]\n",
    "df = df.drop_duplicates()\n",
    "\n",
    "sns.boxplot(data=df[numerical_cols])\n",
    "plt.title('Boxplot to Identify Outliers')\n",
    "plt.show()\n",
    "\n",
    "for col in numerical_cols:\n",
    "    Q1 = df[col].quantile(0.25)\n",
    "    Q3 = df[col].quantile(0.75)\n",
    "    IQR = Q3 - Q1\n",
    "    lower_bound = Q1 - 1.5 * IQR\n",
    "    upper_bound = Q3 + 1.5 * IQR\n",
    "    df[col] = np.where(df[col] < lower_bound, lower_bound, df[col])\n",
    "    df[col] = np.where(df[col] > upper_bound, upper_bound, df[col])\n",
    "\n",
    "df = pd.get_dummies(df, drop_first=True)\n",
    "\n",
    "scaler = MinMaxScaler()\n",
    "df[numerical_cols] = scaler.fit_transform(df[numerical_cols])\n",
    "\n",
    "print(\"\\nData After Cleaning:\")\n",
    "print(df.info())\n",
    "\n",
    "df.to_csv('cleaned_healthcare_data.csv', index=False)\n"
   ]
  },
  {
   "cell_type": "code",
   "execution_count": null,
   "id": "dda9ec43-11a9-4bcd-b8cd-66ba127df28e",
   "metadata": {},
   "outputs": [],
   "source": []
  }
 ],
 "metadata": {
  "kernelspec": {
   "display_name": "Python [conda env:base] *",
   "language": "python",
   "name": "conda-base-py"
  },
  "language_info": {
   "codemirror_mode": {
    "name": "ipython",
    "version": 3
   },
   "file_extension": ".py",
   "mimetype": "text/x-python",
   "name": "python",
   "nbconvert_exporter": "python",
   "pygments_lexer": "ipython3",
   "version": "3.12.7"
  }
 },
 "nbformat": 4,
 "nbformat_minor": 5
}
