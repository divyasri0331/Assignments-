{
 "cells": [
  {
   "cell_type": "code",
   "execution_count": null,
   "id": "ca20ff79-011a-4a2a-96a8-54bc5c2b0e15",
   "metadata": {},
   "outputs": [],
   "source": []
  }
 ],
 "metadata": {
  "kernelspec": {
   "display_name": "",
   "name": ""
  },
  "language_info": {
   "name": ""
  }
 },
 "nbformat": 4,
 "nbformat_minor": 5
}
